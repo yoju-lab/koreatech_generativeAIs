{
  "cells": [
    {
      "cell_type": "markdown",
      "metadata": {
        "id": "view-in-github",
        "colab_type": "text"
      },
      "source": [
        "<a href=\"https://colab.research.google.com/github/JSJeong-me/GPT-Finetuning/blob/main/21-Embedding-Visualization-2D.ipynb\" target=\"_parent\"><img src=\"https://colab.research.google.com/assets/colab-badge.svg\" alt=\"Open In Colab\"/></a>"
      ]
    },
    {
      "cell_type": "code",
      "source": [
        "!pip install openai==0.28\n",
        "!pip install python-dotenv\n",
        "!pip install tiktoken"
      ],
      "metadata": {
        "id": "f3UR4oLHPt0Z"
      },
      "id": "f3UR4oLHPt0Z",
      "execution_count": null,
      "outputs": []
    },
    {
      "cell_type": "code",
      "source": [
        "!echo \"OPENAI_API_KEY=sk-\" >> .env\n",
        "!source /content/.env"
      ],
      "metadata": {
        "id": "MWjdOTzIP6eK"
      },
      "id": "MWjdOTzIP6eK",
      "execution_count": null,
      "outputs": []
    },
    {
      "cell_type": "code",
      "source": [
        "import os\n",
        "from dotenv import load_dotenv\n",
        "\n",
        "# Load environment variables from .env file\n",
        "load_dotenv()\n",
        "# Access the API key using the variable name defined in the .env file\n",
        "api_key = os.getenv(\"OPENAI_API_KEY\")"
      ],
      "metadata": {
        "id": "UajustoEQPTk"
      },
      "id": "UajustoEQPTk",
      "execution_count": null,
      "outputs": []
    },
    {
      "cell_type": "code",
      "source": [
        "import tiktoken\n",
        "\n",
        "def num_tokens_from_string(string: str, encoding_name: str) -> int:\n",
        "    \"\"\"Returns the number of tokens in a text string.\"\"\"\n",
        "    encoding = tiktoken.get_encoding(encoding_name)\n",
        "    num_tokens = len(encoding.encode(string))\n",
        "    return num_tokens\n",
        "\n",
        "num_tokens_from_string(\"tiktoken is great!\", \"cl100k_base\")"
      ],
      "metadata": {
        "id": "PTdck_JY5AV-",
        "outputId": "f91852ce-8352-490e-990b-aa37b8bf18ce",
        "colab": {
          "base_uri": "https://localhost:8080/"
        }
      },
      "id": "PTdck_JY5AV-",
      "execution_count": null,
      "outputs": [
        {
          "output_type": "execute_result",
          "data": {
            "text/plain": [
              "6"
            ]
          },
          "metadata": {},
          "execution_count": 4
        }
      ]
    },
    {
      "cell_type": "markdown",
      "source": [
        "1. Reduce dimensionality"
      ],
      "metadata": {
        "id": "SmwduUG65OTC"
      },
      "id": "SmwduUG65OTC"
    },
    {
      "cell_type": "code",
      "source": [
        "import pandas as pd\n",
        "from sklearn.manifold import TSNE\n",
        "import numpy as np\n",
        "from ast import literal_eval\n",
        "\n",
        "# Load the embeddings\n",
        "datafile_path = \"fine_food_reviews_with_embeddings_1k.csv\"\n",
        "df = pd.read_csv(datafile_path)\n",
        "\n",
        "# Convert to a list of lists of floats\n",
        "matrix = np.array(df.embedding.apply(literal_eval).to_list())\n",
        "\n",
        "# Create a t-SNE model and transform the data\n",
        "tsne = TSNE(n_components=2, perplexity=15, random_state=42, init='random', learning_rate=200)\n",
        "vis_dims = tsne.fit_transform(matrix)\n",
        "vis_dims.shape\n"
      ],
      "metadata": {
        "id": "nq8mvG_SE3IG"
      },
      "id": "nq8mvG_SE3IG",
      "execution_count": null,
      "outputs": []
    },
    {
      "cell_type": "markdown",
      "source": [
        "2. Plotting the embeddings"
      ],
      "metadata": {
        "id": "bIB_UZy4IB0L"
      },
      "id": "bIB_UZy4IB0L"
    },
    {
      "cell_type": "markdown",
      "source": [
        "1개: 빨간색\n",
        "2개: 진한 주황색\n",
        "3개: 골드\n",
        "4개: 청록색\n",
        "5개: 진한 녹색"
      ],
      "metadata": {
        "id": "X0C_JEFyIRKA"
      },
      "id": "X0C_JEFyIRKA"
    },
    {
      "cell_type": "code",
      "source": [
        "import matplotlib.pyplot as plt\n",
        "import matplotlib\n",
        "import numpy as np\n",
        "\n",
        "colors = [\"red\", \"darkorange\", \"gold\", \"turquoise\", \"darkgreen\"]\n",
        "x = [x for x,y in vis_dims]\n",
        "y = [y for x,y in vis_dims]\n",
        "color_indices = df.Score.values - 1\n",
        "\n",
        "colormap = matplotlib.colors.ListedColormap(colors)\n",
        "plt.scatter(x, y, c=color_indices, cmap=colormap, alpha=0.3)\n",
        "for score in [0,1,2,3,4]:\n",
        "    avg_x = np.array(x)[df.Score-1==score].mean()\n",
        "    avg_y = np.array(y)[df.Score-1==score].mean()\n",
        "    color = colors[score]\n",
        "    plt.scatter(avg_x, avg_y, marker='x', color=color, s=100)\n",
        "\n",
        "plt.title(\"Amazon ratings visualized in language using t-SNE\")"
      ],
      "metadata": {
        "id": "UepdRlzjIBK5"
      },
      "id": "UepdRlzjIBK5",
      "execution_count": null,
      "outputs": []
    },
    {
      "cell_type": "code",
      "source": [],
      "metadata": {
        "id": "mYTy08c4IGRg"
      },
      "id": "mYTy08c4IGRg",
      "execution_count": null,
      "outputs": []
    }
  ],
  "metadata": {
    "kernelspec": {
      "display_name": "Python 3",
      "name": "python3"
    },
    "language_info": {
      "codemirror_mode": {
        "name": "ipython",
        "version": 3
      },
      "file_extension": ".py",
      "mimetype": "text/x-python",
      "name": "python",
      "nbconvert_exporter": "python",
      "pygments_lexer": "ipython3",
      "version": "3.10.12"
    },
    "colab": {
      "provenance": [],
      "gpuType": "T4",
      "include_colab_link": true
    },
    "accelerator": "GPU"
  },
  "nbformat": 4,
  "nbformat_minor": 5
}