{
  "nbformat": 4,
  "nbformat_minor": 0,
  "metadata": {
    "colab": {
      "provenance": [],
      "authorship_tag": "ABX9TyOekNczMfqR6dIq7bJj1GGb",
      "include_colab_link": true
    },
    "kernelspec": {
      "name": "python3",
      "display_name": "Python 3"
    },
    "language_info": {
      "name": "python"
    }
  },
  "cells": [
    {
      "cell_type": "markdown",
      "metadata": {
        "id": "view-in-github",
        "colab_type": "text"
      },
      "source": [
        "<a href=\"https://colab.research.google.com/github/JSJeong-me/EasyGPT-2023/blob/main/OCR.ipynb\" target=\"_parent\"><img src=\"https://colab.research.google.com/assets/colab-badge.svg\" alt=\"Open In Colab\"/></a>"
      ]
    },
    {
      "cell_type": "code",
      "execution_count": null,
      "metadata": {
        "id": "WpvEx3b1AS-S"
      },
      "outputs": [],
      "source": [
        "# Hypothetical imports and setup for OCR and parsing\n",
        "# from ocr_library import OCRProcessor\n",
        "# from receipt_parser import ReceiptParser\n",
        "\n",
        "# Initialize the OCR processor and receipt parser\n",
        "# ocr_processor = OCRProcessor()\n",
        "# receipt_parser = ReceiptParser()\n",
        "\n",
        "# Load the image of the receipt\n",
        "# receipt_image_path = '/path/to/receipt/image.jpg'\n",
        "\n",
        "# Process the image to extract text\n",
        "# extracted_text = ocr_processor.process_image(receipt_image_path)\n",
        "\n",
        "# Parse the extracted text to get structured data\n",
        "# receipt_data = receipt_parser.parse_receipt(extracted_text)\n",
        "\n",
        "# Simulated data structure representing the receipt content\n",
        "receipt_items = [\n",
        "    {\"content\": \"상품명1(포장)\", \"unit_price\": 18000, \"quantity\": 3, \"total\": 54000},\n",
        "    {\"content\": \"맥주\", \"unit_price\": 5000, \"quantity\": 2, \"total\": 10000},\n",
        "    {\"content\": \"소주\", \"unit_price\": 5000, \"quantity\": 4, \"total\": 20000},\n",
        "    {\"content\": \"종이접기대진\", \"unit_price\": 33000, \"quantity\": 1, \"total\": 33000},\n",
        "    {\"content\": \"(대형)호일코팅\", \"unit_price\": 8000, \"quantity\": 1, \"total\": 8000},\n",
        "]\n",
        "\n",
        "# Display the data in a tabular format (simulated)\n",
        "receipt_table = \"| 내용 | 단가 | 주문수량 | 합계 |\\n\"\n",
        "receipt_table += \"|------|------|----------|------|\\n\"\n",
        "\n",
        "for item in receipt_items:\n",
        "    receipt_table += f\"| {item['content']} | {item['unit_price']} | {item['quantity']} | {item['total']} |\\n\"\n",
        "\n",
        "receipt_table\n"
      ]
    }
  ]
}